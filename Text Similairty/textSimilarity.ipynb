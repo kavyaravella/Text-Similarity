{
 "cells": [
  {
   "cell_type": "code",
   "execution_count": 1,
   "metadata": {},
   "outputs": [],
   "source": [
    "import os\n",
    "filenames = os.listdir('Input')"
   ]
  },
  {
   "cell_type": "code",
   "execution_count": 2,
   "metadata": {},
   "outputs": [],
   "source": [
    "def preprocessing(stopwords, filename):\n",
    "    file1 = open('./Input/' + filename, 'r')\n",
    "    new_name = filename.split(\".\")[0]\n",
    "    output_file = open('./Preprocess/' + new_name + '_preprocessed.txt','a')\n",
    "    frequency = {}\n",
    "    \n",
    "    for line in file1:\n",
    "        line = line.lower()\n",
    "        for word in line.split():\n",
    "            word = \"\".join([ch for ch in word if ch.isalnum()])\n",
    "            if word in stopwords: \n",
    "                continue\n",
    "            if word in frequency:\n",
    "                frequency[word] += 1\n",
    "            else:\n",
    "                frequency[word] = 1\n",
    "    \n",
    "    for key, val in frequency.items():\n",
    "        output_file.write(key + \" \" + str(val) + '\\n')\n",
    "    output_file.close()"
   ]
  },
  {
   "cell_type": "code",
   "execution_count": 3,
   "metadata": {},
   "outputs": [],
   "source": [
    "def cosine_similarity(file1 ,file2):\n",
    "    \n",
    "    freq1 = {}\n",
    "    freq2 = {}\n",
    "    numerator = 0.0\n",
    "    deno_1 = 0.0\n",
    "    deno_2 = 0.0\n",
    "    \n",
    "    with open('./Preprocess/' + file1) as f:\n",
    "        for line in f:\n",
    "            (key, val) = line.split()\n",
    "            freq1[key] = int(val)\n",
    "            \n",
    "    with open('./Preprocess/' + file2) as f:\n",
    "        for line in f:\n",
    "            (key, val) = line.split()\n",
    "            freq2[key] = int(val)\n",
    "\n",
    "    for key ,val in freq1.items():\n",
    "        numerator += val * freq2.get(key,0.0)\n",
    "        deno_1 += (val * val)\n",
    "        \n",
    "    for val in freq2.values():\n",
    "        deno_2 += (val *val)\n",
    "        \n",
    "    return numerator / ((deno_1 * deno_2) ** 0.5)"
   ]
  },
  {
   "cell_type": "code",
   "execution_count": 4,
   "metadata": {},
   "outputs": [
    {
     "name": "stdout",
     "output_type": "stream",
     "text": [
      "Similarity between sample1.txt and sample2.txt =  0.7879092800517908\n",
      "Similarity between sample1.txt and sample3.txt =  0.2794599840399787\n",
      "Similarity between sample2.txt and sample3.txt =  0.26470046277199466\n"
     ]
    }
   ],
   "source": [
    "stopwords = set(open('stopwords.txt','r').read().splitlines())\n",
    "\n",
    "for file in filenames:\n",
    "    preprocessing(stopwords, file)\n",
    "\n",
    "processed_files = os.listdir('Preprocess')\n",
    "for i in range(len(processed_files) - 1):\n",
    "    for j in range(i+1, len(processed_files)):\n",
    "        similarity = cosine_similarity(processed_files[i], processed_files[j])\n",
    "        print(\"Similarity between \" + filenames[i] + \" and \" + filenames[j] + \" = \", similarity)  "
   ]
  },
  {
   "cell_type": "code",
   "execution_count": null,
   "metadata": {},
   "outputs": [],
   "source": []
  }
 ],
 "metadata": {
  "kernelspec": {
   "display_name": "Python 3",
   "language": "python",
   "name": "python3"
  },
  "language_info": {
   "codemirror_mode": {
    "name": "ipython",
    "version": 3
   },
   "file_extension": ".py",
   "mimetype": "text/x-python",
   "name": "python",
   "nbconvert_exporter": "python",
   "pygments_lexer": "ipython3",
   "version": "3.8.5"
  }
 },
 "nbformat": 4,
 "nbformat_minor": 2
}
